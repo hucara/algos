{
 "cells": [
  {
   "cell_type": "markdown",
   "metadata": {},
   "source": [
    "# Common sorting algorithms\n",
    "\n",
    "* [Bubblesort](#Bubblesort)\n",
    "* [Mergesort](#Mergesort)\n",
    "\n",
    "## Notation\n",
    "\n",
    "<img src=\"imgs/cost.png\" width = 300>\n",
    "\n",
    "## Bubblesort\n",
    "\n",
    "Very naive and slow algorithm that iterates along a list as many times as elements it has. It changes positions of pairs of elements if they are not sorted correctly.\n",
    "\n",
    "https://www.youtube.com/watch?v=6Gv8vg0kcHc\n",
    "\n",
    "#### Cost: O(N^2)\n",
    "* Worst Case: $O(N^2)$\n",
    "* Best Case: $O(N)$\n",
    "* Average: $O(N^2)$\n",
    "\n",
    "#### Implementation:"
   ]
  },
  {
   "cell_type": "code",
   "execution_count": 1,
   "metadata": {},
   "outputs": [],
   "source": [
    "def bubblesort(a):\n",
    "    swaps = 0\n",
    "    for i in range(len(a)):\n",
    "        for j in range(len(a)-1):\n",
    "            if a[j] > a[j+1]:\n",
    "                a[j], a[j+1] = a[j+1], a[j]\n",
    "                swaps += 1\n",
    "                \n",
    "    return a, swaps\n",
    "\n",
    "    print(\"Array is sorted in {} swaps.\".format(swaps))\n",
    "    print(\"First Element: {}\".format(a[0]))\n",
    "    print(\"Last Element: {}\".format(a[len(a)-1]))"
   ]
  },
  {
   "cell_type": "code",
   "execution_count": 3,
   "metadata": {},
   "outputs": [
    {
     "data": {
      "text/plain": [
       "([1, 1, 1, 2, 2, 2, 2, 4, 6], 12)"
      ]
     },
     "execution_count": 3,
     "metadata": {},
     "output_type": "execute_result"
    }
   ],
   "source": [
    "bubblesort([2, 2, 1, 1, 2, 6, 4, 1, 2])"
   ]
  },
  {
   "cell_type": "markdown",
   "metadata": {},
   "source": [
    "***"
   ]
  },
  {
   "cell_type": "markdown",
   "metadata": {},
   "source": [
    "## Mergesort\n",
    "\n",
    "Best way to conceptualize mergesort is recursively. It is pretty fast and consists in dividing the array in half many times to sort the left half and then the right half. It is a very stable algorithm, meaning always gives same cost and never degenerates in harder costs. \n",
    "\n",
    "Downside is that for these operations we need a bit of extra space to hold all divisions.\n",
    "\n",
    "https://www.youtube.com/watch?v=KF2j-9iSf4Q\n",
    "\n",
    "### Cost: O(n  log n)\n",
    "### Implementation"
   ]
  },
  {
   "cell_type": "code",
   "execution_count": 152,
   "metadata": {},
   "outputs": [],
   "source": [
    "def mergesort(array):\n",
    "    \n",
    "    if len(array) > 1:\n",
    "        mid = len(array)//2\n",
    "        left_half = array[:mid]\n",
    "        right_half = array[mid:]\n",
    "        \n",
    "        print(\"Splitting: Left {} Right {}\".format(left_half, right_half))\n",
    "        mergesort(left_half)\n",
    "        mergesort(right_half)\n",
    "        \n",
    "        left_idx = right_idx = array_idx = 0\n",
    "        \n",
    "        # insert in array depending on which element is smaller in both of partitions\n",
    "        while left_idx < len(left_half) and right_idx < len(right_half):\n",
    "            if left_half[left_idx] <= right_half[right_idx]:\n",
    "                array[array_idx] = left_half[left_idx]\n",
    "                left_idx += 1\n",
    "            else:\n",
    "                array[array_idx] = right_half[right_idx]\n",
    "                right_idx += 1\n",
    "            array_idx += 1\n",
    "    \n",
    "        # insert remaining elements\n",
    "        while left_idx < len(left_half):\n",
    "            array[array_idx]=left_half[left_idx]\n",
    "            left_idx+=1\n",
    "            array_idx+=1\n",
    "\n",
    "        while right_idx < len(right_half):\n",
    "            array[array_idx]=right_half[right_idx]\n",
    "            right_idx+=1\n",
    "            array_idx+=1\n",
    "        \n",
    "        print(\"Merging:\", array)\n",
    "    "
   ]
  },
  {
   "cell_type": "code",
   "execution_count": 153,
   "metadata": {},
   "outputs": [
    {
     "name": "stdout",
     "output_type": "stream",
     "text": [
      "Splitting: Left [1, 1, 2222, 1, 5, 2] Right [7, 9, 10, 2, 3, 54]\n",
      "Splitting: Left [1, 1, 2222] Right [1, 5, 2]\n",
      "Splitting: Left [1] Right [1, 2222]\n",
      "Splitting: Left [1] Right [2222]\n",
      "Merging: [1, 2222]\n",
      "Merging: [1, 1, 2222]\n",
      "Splitting: Left [1] Right [5, 2]\n",
      "Splitting: Left [5] Right [2]\n",
      "Merging: [2, 5]\n",
      "Merging: [1, 2, 5]\n",
      "Merging: [1, 1, 1, 2, 5, 2222]\n",
      "Splitting: Left [7, 9, 10] Right [2, 3, 54]\n",
      "Splitting: Left [7] Right [9, 10]\n",
      "Splitting: Left [9] Right [10]\n",
      "Merging: [9, 10]\n",
      "Merging: [7, 9, 10]\n",
      "Splitting: Left [2] Right [3, 54]\n",
      "Splitting: Left [3] Right [54]\n",
      "Merging: [3, 54]\n",
      "Merging: [2, 3, 54]\n",
      "Merging: [2, 3, 7, 9, 10, 54]\n",
      "Merging: [1, 1, 1, 2, 2, 3, 5, 7, 9, 10, 54, 2222]\n"
     ]
    }
   ],
   "source": [
    "a = [1, 1, 2222, 1, 5, 2, 7, 9, 10, 2, 3, 54]\n",
    "mergesort(a)"
   ]
  },
  {
   "cell_type": "code",
   "execution_count": null,
   "metadata": {},
   "outputs": [],
   "source": []
  }
 ],
 "metadata": {
  "kernelspec": {
   "display_name": "Python 3",
   "language": "python",
   "name": "python3"
  },
  "language_info": {
   "codemirror_mode": {
    "name": "ipython",
    "version": 3
   },
   "file_extension": ".py",
   "mimetype": "text/x-python",
   "name": "python",
   "nbconvert_exporter": "python",
   "pygments_lexer": "ipython3",
   "version": "3.7.0"
  }
 },
 "nbformat": 4,
 "nbformat_minor": 2
}
